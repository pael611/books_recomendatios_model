{
 "cells": [
  {
   "cell_type": "markdown",
   "id": "4f162c6f",
   "metadata": {},
   "source": [
    "<h1>Book Recomendation Model</h1>"
   ]
  },
  {
   "cell_type": "markdown",
   "id": "b0c23755",
   "metadata": {},
   "source": [
    "Nama : Rafael Siregar<br>\n",
    "username : rafael_siregar611<br>\n",
    "E-mail : rafael_siregar@students.polmed.ac.id"
   ]
  },
  {
   "cell_type": "markdown",
   "id": "7ebb5266",
   "metadata": {},
   "source": [
    "Melakukan Import Library yang akan kita gunakan untuk membuat model sistem rekomendasi Buku"
   ]
  },
  {
   "cell_type": "code",
   "execution_count": 1,
   "id": "0f4327c5",
   "metadata": {},
   "outputs": [],
   "source": [
    "\n",
    "# Import semua Library yang dibutuhkan untuk pembuatan model rekomendasi buku\n",
    "import pandas as pd\n",
    "from sklearn.feature_extraction.text import TfidfVectorizer\n",
    "from sklearn.metrics.pairwise import linear_kernel\n",
    "from sklearn.feature_extraction.text import CountVectorizer\n",
    "from sklearn.metrics.pairwise import cosine_similarity\n",
    "from scipy.sparse import hstack\n",
    "import numpy as np\n",
    "import re\n",
    "import warnings\n",
    "import matplotlib.pyplot as plt\n",
    "from PIL import Image\n",
    "import requests\n",
    "warnings.filterwarnings(\"ignore\")\n",
    "import tensorflow as tf\n",
    "from tensorflow import keras\n",
    "from tensorflow.keras import layers\n",
    "from tqdm import tqdm\n",
    "from sklearn.preprocessing import LabelEncoder, MinMaxScaler\n",
    "from sklearn.model_selection import train_test_split\n",
    "import tensorflow as tf\n",
    "tqdm.pandas()\n",
    "\n"
   ]
  },
  {
   "cell_type": "markdown",
   "id": "80b017ce",
   "metadata": {},
   "source": [
    "<h1><i>Understanding Data</i></h1>"
   ]
  },
  {
   "cell_type": "markdown",
   "id": "2dc610c4",
   "metadata": {},
   "source": [
    "<h2>1.Load Dataset</h2>"
   ]
  },
  {
   "cell_type": "markdown",
   "id": "8c79660f",
   "metadata": {},
   "source": [
    "Kode berikut digunakan untuk memuat tiga dataset utama yang diperlukan dalam pembuatan sistem rekomendasi buku:"
   ]
  },
  {
   "cell_type": "code",
   "execution_count": 2,
   "id": "7e747459",
   "metadata": {},
   "outputs": [],
   "source": [
    "#Melakukan load dataset buku dari book_dataset/Books.csv , Ratings.csv, dan Users.csv\n",
    "books = pd.read_csv('book_dataset/Books.csv', low_memory=False)\n",
    "ratings = pd.read_csv('book_dataset/Ratings.csv', low_memory=False)\n",
    "users = pd.read_csv('book_dataset/Users.csv', low_memory=False)\n"
   ]
  },
  {
   "cell_type": "markdown",
   "id": "e9cc7ae8",
   "metadata": {},
   "source": [
    "books berisi data detail buku seperti ISBN, judul, penulis, tahun terbit, penerbit, dan URL gambar sampul.<br>\n",
    "ratings berisi data interaksi pengguna dengan buku, yaitu UserId, ISBN, dan rating yang diberikan (0-10).<br>\n",
    "users berisi data pengguna seperti UserId, lokasi, dan umur.<br>\n",
    "Dengan memuat ketiga dataset ini, kita dapat:<br>\n",
    "\n",
    "Menghubungkan informasi buku dengan rating yang diberikan oleh user.<br>\n",
    "Menganalisis perilaku pengguna dan preferensi mereka.<br>\n",
    "Menyiapkan data untuk proses eksplorasi, pembersihan, dan pembuatan model<br> rekomendasi berbasis content-based maupun collaborative filtering."
   ]
  },
  {
   "cell_type": "code",
   "execution_count": 3,
   "id": "58051717",
   "metadata": {},
   "outputs": [
    {
     "name": "stdout",
     "output_type": "stream",
     "text": [
      "Dataset Buku: 271360 Buku\n",
      "Dataset Rating: 1149780 Rating\n",
      "Dataset User: 278858 User\n"
     ]
    }
   ],
   "source": [
    "print(\"Dataset Buku:\", books.ISBN.count(), \"Buku\")\n",
    "print(\"Dataset Rating:\", ratings.UserId.count(), \"Rating\")\n",
    "print(\"Dataset User:\", users.UserId.count(), \"User\")"
   ]
  },
  {
   "cell_type": "markdown",
   "id": "edadb252",
   "metadata": {},
   "source": [
    "Dari Output diatas dapat kita lihat bahwa banyaknya data dengan rincian : <br> Dataset Buku: 271360 Buku<br>\n",
    "Dataset Rating: 105283 Rating<br>\n",
    "Dataset User: 278858 User<br>"
   ]
  },
  {
   "cell_type": "markdown",
   "id": "3c227bfb",
   "metadata": {},
   "source": [
    "<h2>2.Univariate Exploratory Data Analysis</h2>"
   ]
  },
  {
   "cell_type": "markdown",
   "id": "9d74d633",
   "metadata": {},
   "source": [
    "<h4>Melakukan EDA terhadap dataframe books</h4>"
   ]
  },
  {
   "cell_type": "code",
   "execution_count": 4,
   "id": "5ed01a5d",
   "metadata": {},
   "outputs": [
    {
     "name": "stdout",
     "output_type": "stream",
     "text": [
      "<class 'pandas.core.frame.DataFrame'>\n",
      "RangeIndex: 271360 entries, 0 to 271359\n",
      "Data columns (total 8 columns):\n",
      " #   Column               Non-Null Count   Dtype \n",
      "---  ------               --------------   ----- \n",
      " 0   ISBN                 271360 non-null  object\n",
      " 1   Book-Title           271360 non-null  object\n",
      " 2   Book-Author          271359 non-null  object\n",
      " 3   Year-Of-Publication  271360 non-null  object\n",
      " 4   Publisher            271358 non-null  object\n",
      " 5   Image-URL-S          271360 non-null  object\n",
      " 6   Image-URL-M          271360 non-null  object\n",
      " 7   Image-URL-L          271357 non-null  object\n",
      "dtypes: object(8)\n",
      "memory usage: 16.6+ MB\n"
     ]
    }
   ],
   "source": [
    "books.info()"
   ]
  },
  {
   "cell_type": "markdown",
   "id": "3bd2e47e",
   "metadata": {},
   "source": [
    "Jumlah Data: Terdapat 271.360 baris data buku, yang berarti dataset ini sangat besar dan kaya akan variasi buku.<br>\n",
    "Kolom: Ada 8 kolom, yaitu ISBN, Book-Title, Book-Author, Year-Of-Publication, Publisher, Image-URL-S, Image-URL-M, dan Image-URL-L.<br>\n",
    "Tipe Data: Semua kolom bertipe objek (string), termasuk tahun terbit yang seharusnya bertipe numerik.<br>\n",
    "Missing Value:<br>\n",
    "Kolom Book-Author memiliki 1 data kosong.<br>\n",
    "Kolom Publisher memiliki 2 data kosong.<br>\n",
    "Kolom Image-URL-L memiliki 3 data kosong.<br>\n",
    "Kolom lain tidak memiliki missing value.<br>\n",
    "Kualitas Data:<br>\n",
    "Sebagian besar data sudah lengkap, namun ada beberapa missing value yang perlu ditangani pada tahap preprocessing.<br>\n",
    "ISBN sebagai primary key unik untuk setiap buku, namun perlu dicek apakah ada duplikasi.<br>\n",
    "Kolom tahun terbit bertipe objek, sehingga perlu diubah ke numerik jika ingin digunakan untuk analisis lebih lanjut.<br>"
   ]
  },
  {
   "cell_type": "code",
   "execution_count": 5,
   "id": "293e674d",
   "metadata": {},
   "outputs": [
    {
     "name": "stdout",
     "output_type": "stream",
     "text": [
      "Banyaknya data pada dataframe books ISBN                   271360\n",
      "Book-Title             271360\n",
      "Book-Author            271359\n",
      "Year-Of-Publication    271360\n",
      "Publisher              271358\n",
      "Image-URL-S            271360\n",
      "Image-URL-M            271360\n",
      "Image-URL-L            271357\n",
      "dtype: int64\n",
      "Banyaknya data berdasarkan ISBN: 271360\n"
     ]
    }
   ],
   "source": [
    "#Mengecek Banyaknya data berdasarkan ISBN\n",
    "print(\"Banyaknya data pada dataframe books\", books.count())\n",
    "print(\"Banyaknya data berdasarkan ISBN:\", books.ISBN.nunique())"
   ]
  },
  {
   "cell_type": "markdown",
   "id": "39c697e7",
   "metadata": {},
   "source": [
    "Setiap kolom pada dataframe books hampir seluruhnya memiliki jumlah data yang sama, yaitu 271.360, kecuali:<br>\n",
    "Book-Author kurang 1 data (271.359), artinya ada 1 baris dengan nilai kosong (missing value) pada kolom ini.<br>\n",
    "Publisher kurang 2 data (271.358), artinya ada 2 baris dengan nilai kosong pada kolom ini.<br>\n",
    "Image-URL-L kurang 3 data (271.357), artinya ada 3 baris dengan nilai kosong pada kolom ini.<br>\n",
    "Kolom ISBN memiliki jumlah unik yang sama dengan jumlah baris (271.360), artinya setiap buku memiliki ISBN yang unik dan tidak ada duplikasi ISBN pada dataset ini.<br>\n",
    "Data sudah cukup bersih dari duplikasi, namun masih ada sedikit missing value pada beberapa kolom yang perlu ditangani pada tahap preprocessing.<br>"
   ]
  },
  {
   "cell_type": "markdown",
   "id": "c4cc8c79",
   "metadata": {},
   "source": [
    "<h4>Melakukan EDA terhadap dataframe Rating</h4>"
   ]
  },
  {
   "cell_type": "code",
   "execution_count": 6,
   "id": "7712494c",
   "metadata": {},
   "outputs": [
    {
     "name": "stdout",
     "output_type": "stream",
     "text": [
      "<class 'pandas.core.frame.DataFrame'>\n",
      "RangeIndex: 1149780 entries, 0 to 1149779\n",
      "Data columns (total 3 columns):\n",
      " #   Column       Non-Null Count    Dtype \n",
      "---  ------       --------------    ----- \n",
      " 0   UserId       1149780 non-null  int64 \n",
      " 1   ISBN         1149780 non-null  object\n",
      " 2   Book-Rating  1149780 non-null  int64 \n",
      "dtypes: int64(2), object(1)\n",
      "memory usage: 26.3+ MB\n"
     ]
    },
    {
     "data": {
      "text/html": [
       "<div>\n",
       "<style scoped>\n",
       "    .dataframe tbody tr th:only-of-type {\n",
       "        vertical-align: middle;\n",
       "    }\n",
       "\n",
       "    .dataframe tbody tr th {\n",
       "        vertical-align: top;\n",
       "    }\n",
       "\n",
       "    .dataframe thead th {\n",
       "        text-align: right;\n",
       "    }\n",
       "</style>\n",
       "<table border=\"1\" class=\"dataframe\">\n",
       "  <thead>\n",
       "    <tr style=\"text-align: right;\">\n",
       "      <th></th>\n",
       "      <th>UserId</th>\n",
       "      <th>Book-Rating</th>\n",
       "    </tr>\n",
       "  </thead>\n",
       "  <tbody>\n",
       "    <tr>\n",
       "      <th>count</th>\n",
       "      <td>1149780.0</td>\n",
       "      <td>1149780.0</td>\n",
       "    </tr>\n",
       "    <tr>\n",
       "      <th>mean</th>\n",
       "      <td>140386.0</td>\n",
       "      <td>3.0</td>\n",
       "    </tr>\n",
       "    <tr>\n",
       "      <th>std</th>\n",
       "      <td>80562.0</td>\n",
       "      <td>4.0</td>\n",
       "    </tr>\n",
       "    <tr>\n",
       "      <th>min</th>\n",
       "      <td>2.0</td>\n",
       "      <td>0.0</td>\n",
       "    </tr>\n",
       "    <tr>\n",
       "      <th>25%</th>\n",
       "      <td>70345.0</td>\n",
       "      <td>0.0</td>\n",
       "    </tr>\n",
       "    <tr>\n",
       "      <th>50%</th>\n",
       "      <td>141010.0</td>\n",
       "      <td>0.0</td>\n",
       "    </tr>\n",
       "    <tr>\n",
       "      <th>75%</th>\n",
       "      <td>211028.0</td>\n",
       "      <td>7.0</td>\n",
       "    </tr>\n",
       "    <tr>\n",
       "      <th>max</th>\n",
       "      <td>278854.0</td>\n",
       "      <td>10.0</td>\n",
       "    </tr>\n",
       "  </tbody>\n",
       "</table>\n",
       "</div>"
      ],
      "text/plain": [
       "          UserId  Book-Rating\n",
       "count  1149780.0    1149780.0\n",
       "mean    140386.0          3.0\n",
       "std      80562.0          4.0\n",
       "min          2.0          0.0\n",
       "25%      70345.0          0.0\n",
       "50%     141010.0          0.0\n",
       "75%     211028.0          7.0\n",
       "max     278854.0         10.0"
      ]
     },
     "execution_count": 6,
     "metadata": {},
     "output_type": "execute_result"
    }
   ],
   "source": [
    "ratings.info()\n",
    "ratings.describe().round(0)"
   ]
  },
  {
   "cell_type": "markdown",
   "id": "00c26a6d",
   "metadata": {},
   "source": [
    "Dari output diatas dapat kita lihat bahwa rating buku berada pada minimum 0 dan maximum 10.\n",
    "Distribusi rating sangat tidak seimbang:\n",
    "Lebih dari 50% data memiliki rating 0, artinya banyak user yang hanya menandai buku tanpa memberikan penilaian sebenarnya.\n",
    "Perlu pembersihan data:\n",
    "Untuk modeling, biasanya rating 0 dihapus agar model hanya belajar dari interaksi yang benar-benar bermakna (rating 1-10).\n",
    "Jumlah user dan buku sangat besar:\n",
    "Dataset sangat kaya, cocok untuk collaborative filtering, namun perlu balancing agar model tidak bias ke rating 0."
   ]
  },
  {
   "cell_type": "markdown",
   "id": "b580e385",
   "metadata": {},
   "source": [
    "kemudian kita akan cek berapada user yang memberikan rating"
   ]
  },
  {
   "cell_type": "code",
   "execution_count": 7,
   "id": "f1eb2810",
   "metadata": {},
   "outputs": [
    {
     "name": "stdout",
     "output_type": "stream",
     "text": [
      "Banyaknya data pada dataframe ratings 1149780\n",
      "Banyaknya data user sesuai dengan dataframe users 278858\n",
      "Banyaknya User yang melakukan rating berdasarkan nilai unik dari UserId: 105283\n",
      "Banyaknya buku yang dirating berdasarkan nilai unik dari ISBN: 340556\n"
     ]
    }
   ],
   "source": [
    "#Melihat banyaknya user yang memberikan rating berdasarkan UserId\n",
    "print(\"Banyaknya data pada dataframe ratings\", ratings.UserId.count())\n",
    "print(\"Banyaknya data user sesuai dengan dataframe users\", users.UserId.count())\n",
    "print(\"Banyaknya User yang melakukan rating berdasarkan nilai unik dari UserId:\", len(ratings.UserId.unique()))\n",
    "# Banyaknya buku yang dirating berdasarkan ISBN (jumlah ISBN unik yang ada di ratings)\n",
    "print(\"Banyaknya buku yang dirating berdasarkan nilai unik dari ISBN:\", ratings['ISBN'].nunique())"
   ]
  },
  {
   "cell_type": "markdown",
   "id": "c29963ac",
   "metadata": {},
   "source": [
    "Berdasarkan hasil analisis dataframe ratings, terdapat 1.149.780 data interaksi user-buku, namun hanya 105.283 user yang benar-benar memberikan rating dari total 278.858 user yang terdaftar, menunjukkan bahwa sebagian besar user tidak aktif memberikan penilaian. Selain itu, terdapat 340.556 ISBN unik yang pernah dirating, jumlah ini lebih banyak dari ISBN pada dataset books, sehingga ada kemungkinan data ratings mengandung ISBN yang tidak ditemukan di books. Hal ini menandakan perlunya pembersihan dan penyelarasan data agar sistem rekomendasi yang dibangun hanya menggunakan data yang valid dan konsisten, serta menghindari bias akibat banyaknya rating 0 yang mendominasi distribusi data."
   ]
  },
  {
   "cell_type": "markdown",
   "id": "8540fc75",
   "metadata": {},
   "source": [
    "<h4>Melakukan EDA terhadap dataframe Users</h4>"
   ]
  },
  {
   "cell_type": "code",
   "execution_count": 8,
   "id": "23b81aa7",
   "metadata": {},
   "outputs": [
    {
     "name": "stdout",
     "output_type": "stream",
     "text": [
      "<class 'pandas.core.frame.DataFrame'>\n",
      "RangeIndex: 278858 entries, 0 to 278857\n",
      "Data columns (total 3 columns):\n",
      " #   Column    Non-Null Count   Dtype  \n",
      "---  ------    --------------   -----  \n",
      " 0   UserId    278858 non-null  int64  \n",
      " 1   Location  278858 non-null  object \n",
      " 2   Age       168096 non-null  float64\n",
      "dtypes: float64(1), int64(1), object(1)\n",
      "memory usage: 6.4+ MB\n"
     ]
    }
   ],
   "source": [
    "users.info()"
   ]
  },
  {
   "cell_type": "markdown",
   "id": "37e31f0d",
   "metadata": {},
   "source": [
    "Berdasarkan output users.info(), terdapat 278.858 data user dengan 3 kolom: UserId, Location, dan Age. Seluruh data pada kolom UserId dan Location lengkap (tidak ada missing value), namun pada kolom Age hanya terdapat 168.096 data yang terisi, sehingga sekitar 110.762 data user tidak memiliki informasi umur (missing value). Hal ini menunjukkan bahwa meskipun data user cukup lengkap untuk ID dan lokasi, namun informasi umur masih banyak yang kosong sehingga perlu dipertimbangkan penanganannya pada tahap preprocessing, misalnya dengan mengisi nilai kosong atau mengabaikan kolom tersebut jika tidak terlalu relevan untuk model rekomendasi."
   ]
  },
  {
   "cell_type": "markdown",
   "id": "63a20871",
   "metadata": {},
   "source": [
    "<h1><i>Preprocessing Data</i></h1>"
   ]
  },
  {
   "cell_type": "markdown",
   "id": "96961811",
   "metadata": {},
   "source": [
    "hal pertama yang akan kita lakukan dalam preprocessing data adalah menggabungkan tiap dataframe dari books,ratings,dan users kedalam 1 dataframe, namun sebagai pertimgbangan kita hanyak akan menggunakan dataframe yang kita butuhkan saja, daalm kasus ini, hasil akhir dataframe yang diharapkan adalah UserId\tISBN\tBook-Rating\tBook-Title\tBook-Author\tPublisher\t"
   ]
  },
  {
   "cell_type": "code",
   "execution_count": 9,
   "id": "25888da2",
   "metadata": {},
   "outputs": [
    {
     "name": "stdout",
     "output_type": "stream",
     "text": [
      "<class 'pandas.core.frame.DataFrame'>\n",
      "Int64Index: 1031136 entries, 0 to 1031135\n",
      "Data columns (total 10 columns):\n",
      " #   Column               Non-Null Count    Dtype \n",
      "---  ------               --------------    ----- \n",
      " 0   ISBN                 1031136 non-null  object\n",
      " 1   Book-Title           1031136 non-null  object\n",
      " 2   Book-Author          1031135 non-null  object\n",
      " 3   Year-Of-Publication  1031136 non-null  object\n",
      " 4   Publisher            1031134 non-null  object\n",
      " 5   Image-URL-S          1031136 non-null  object\n",
      " 6   Image-URL-M          1031136 non-null  object\n",
      " 7   Image-URL-L          1031132 non-null  object\n",
      " 8   UserId               1031136 non-null  int64 \n",
      " 9   Book-Rating          1031136 non-null  int64 \n",
      "dtypes: int64(2), object(8)\n",
      "memory usage: 86.5+ MB\n"
     ]
    }
   ],
   "source": [
    "books_data=books.merge(ratings,on=\"ISBN\")\n",
    "books_data.head()\n",
    "books_data.info()"
   ]
  },
  {
   "cell_type": "markdown",
   "id": "6d33a6b6",
   "metadata": {},
   "source": [
    "Kita sudah berhasil menggabungkan Dataframe dengan kolom-kolom yang dipertahankan adalah UserId\tISBN Book-Rating Book-Title Book-Author\tPublisher\t"
   ]
  },
  {
   "cell_type": "markdown",
   "id": "bb10ce79",
   "metadata": {},
   "source": [
    "<h1><i>Preparation Data</i></h1>"
   ]
  },
  {
   "cell_type": "markdown",
   "id": "cc657333",
   "metadata": {},
   "source": [
    "cek nilai null, missing values dan nilai yang tidak valid dan menghapus Kolom yang tidak kita perlukan seperti \"ISBN\",\"Year-Of-Publication\",\"Image-URL-S\",\"Image-URL-M\""
   ]
  },
  {
   "cell_type": "markdown",
   "id": "ad55a6f0",
   "metadata": {},
   "source": [
    "<i>Melakukan duplikasi dataframe</i>"
   ]
  },
  {
   "cell_type": "code",
   "execution_count": 10,
   "id": "098be3e3",
   "metadata": {},
   "outputs": [],
   "source": [
    "df=books_data.copy()"
   ]
  },
  {
   "cell_type": "markdown",
   "id": "0405f46c",
   "metadata": {},
   "source": [
    "Baris kode diatas digunakan untuk membuat salinan dataframe books_data ke dalam variabel baru df, sehingga proses pembersihan dan manipulasi data selanjutnya dapat dilakukan tanpa mengubah data asli pada books_data."
   ]
  },
  {
   "cell_type": "markdown",
   "id": "3abfb87b",
   "metadata": {},
   "source": [
    "<i>Menghapus Nilai Kosong (NaN) dan melakukan reset Index</i>"
   ]
  },
  {
   "cell_type": "code",
   "execution_count": 11,
   "id": "0af6f04b",
   "metadata": {},
   "outputs": [],
   "source": [
    "df.dropna(inplace=True)\n",
    "df.reset_index(drop=True,inplace=True)"
   ]
  },
  {
   "cell_type": "markdown",
   "id": "998a0fc9",
   "metadata": {},
   "source": [
    "Baris kode diatas digunakan untuk menghapus seluruh baris yang memiliki nilai kosong (NaN) pada dataframe df, kemudian melakukan reset index agar urutan index kembali berurutan dari nol setelah penghapusan baris."
   ]
  },
  {
   "cell_type": "markdown",
   "id": "44151713",
   "metadata": {},
   "source": [
    "<i>Menghapus Kolom yang tidak diperlukan</i>"
   ]
  },
  {
   "cell_type": "code",
   "execution_count": 12,
   "id": "afa54e39",
   "metadata": {},
   "outputs": [],
   "source": [
    "df.drop(columns=[\"ISBN\",\"Year-Of-Publication\",\"Image-URL-S\",\"Image-URL-M\"],axis=1,inplace=True)"
   ]
  },
  {
   "cell_type": "markdown",
   "id": "f7afa3dd",
   "metadata": {},
   "source": [
    "Baris kode diatas digunakan untuk menghapus kolom-kolom yang tidak diperlukan, yaitu \"ISBN\", \"Year-Of-Publication\", \"Image-URL-S\", dan \"Image-URL-M\" dari dataframe df, sehingga hanya kolom yang relevan untuk proses rekomendasi yang dipertahankan."
   ]
  },
  {
   "cell_type": "markdown",
   "id": "d6056f32",
   "metadata": {},
   "source": [
    "<i>Menghapus Baris Rating 0</i>"
   ]
  },
  {
   "cell_type": "code",
   "execution_count": 13,
   "id": "2f0ade25",
   "metadata": {},
   "outputs": [],
   "source": [
    "df.drop(index=df[df[\"Book-Rating\"]==0].index,inplace=True)"
   ]
  },
  {
   "cell_type": "markdown",
   "id": "8dc1b87a",
   "metadata": {},
   "source": [
    "Baris kode diatas digunakan untuk menghapus seluruh baris pada dataframe df yang memiliki nilai Book-Rating sama dengan 0. Hal ini bertujuan agar hanya interaksi user yang benar-benar memberikan rating (1-10) yang digunakan dalam proses rekomendasi."
   ]
  },
  {
   "cell_type": "markdown",
   "id": "fd92e3b2",
   "metadata": {},
   "source": [
    "<i>Membersihkan Nama Judul Buku</i>"
   ]
  },
  {
   "cell_type": "code",
   "execution_count": 14,
   "id": "4603d3cd",
   "metadata": {},
   "outputs": [],
   "source": [
    "df[\"Book-Title\"]=df[\"Book-Title\"].apply(lambda x: re.sub(\"[\\W_]+\",\" \",x).strip())"
   ]
  },
  {
   "cell_type": "markdown",
   "id": "554a3ece",
   "metadata": {},
   "source": [
    "Baris kode diatas digunakan untuk membersihkan nama judul buku pada kolom \"Book-Title\" dengan menghapus seluruh karakter non-alfabet dan underscore, lalu menghilangkan spasi di awal dan akhir string. Ini bertujuan agar judul buku lebih konsisten dan rapi untuk proses analisis selanjutnya."
   ]
  },
  {
   "cell_type": "markdown",
   "id": "503a738d",
   "metadata": {},
   "source": [
    "<i>Menggabungkan Kolom yang nanti akan kita gunakan sebagai Fitur Rekomendasi kita</i>"
   ]
  },
  {
   "cell_type": "code",
   "execution_count": 15,
   "id": "31e8ed1b",
   "metadata": {},
   "outputs": [],
   "source": [
    "# Gabungkan fitur-fitur penting untuk setiap buku\n",
    "df['all_features'] = df[['Book-Title', 'Book-Author']].astype(str).agg(' '.join, axis=1)"
   ]
  },
  {
   "cell_type": "markdown",
   "id": "5219713a",
   "metadata": {},
   "source": [
    "Baris kode diatas digunakan untuk membuat kolom baru bernama all_features yang merupakan gabungan dari kolom \"Book-Title\" dan \"Book-Author\" untuk setiap buku. Kolom ini akan digunakan sebagai fitur utama dalam proses ekstraksi fitur dan perhitungan kemiripan antar buku pada sistem rekomendasi."
   ]
  },
  {
   "cell_type": "markdown",
   "id": "bdc6e676",
   "metadata": {},
   "source": [
    "<i>Kita akan Cek hasil akhir dari Dataframe kita setelah semua proses ini dilakukan</i>"
   ]
  },
  {
   "cell_type": "code",
   "execution_count": 16,
   "id": "44097354",
   "metadata": {},
   "outputs": [
    {
     "name": "stdout",
     "output_type": "stream",
     "text": [
      "<class 'pandas.core.frame.DataFrame'>\n",
      "Int64Index: 383838 entries, 1 to 1031125\n",
      "Data columns (total 7 columns):\n",
      " #   Column        Non-Null Count   Dtype \n",
      "---  ------        --------------   ----- \n",
      " 0   Book-Title    383838 non-null  object\n",
      " 1   Book-Author   383838 non-null  object\n",
      " 2   Publisher     383838 non-null  object\n",
      " 3   Image-URL-L   383838 non-null  object\n",
      " 4   UserId        383838 non-null  int64 \n",
      " 5   Book-Rating   383838 non-null  int64 \n",
      " 6   all_features  383838 non-null  object\n",
      "dtypes: int64(2), object(5)\n",
      "memory usage: 23.4+ MB\n",
      "None\n"
     ]
    },
    {
     "data": {
      "text/html": [
       "<div>\n",
       "<style scoped>\n",
       "    .dataframe tbody tr th:only-of-type {\n",
       "        vertical-align: middle;\n",
       "    }\n",
       "\n",
       "    .dataframe tbody tr th {\n",
       "        vertical-align: top;\n",
       "    }\n",
       "\n",
       "    .dataframe thead th {\n",
       "        text-align: right;\n",
       "    }\n",
       "</style>\n",
       "<table border=\"1\" class=\"dataframe\">\n",
       "  <thead>\n",
       "    <tr style=\"text-align: right;\">\n",
       "      <th></th>\n",
       "      <th>Book-Title</th>\n",
       "      <th>Book-Author</th>\n",
       "      <th>Publisher</th>\n",
       "      <th>Image-URL-L</th>\n",
       "      <th>UserId</th>\n",
       "      <th>Book-Rating</th>\n",
       "      <th>all_features</th>\n",
       "    </tr>\n",
       "  </thead>\n",
       "  <tbody>\n",
       "    <tr>\n",
       "      <th>284992</th>\n",
       "      <td>The Accidental Tourist</td>\n",
       "      <td>Anne Tyler</td>\n",
       "      <td>Berkley Publishing Group</td>\n",
       "      <td>http://images.amazon.com/images/P/0425092917.0...</td>\n",
       "      <td>110214</td>\n",
       "      <td>9</td>\n",
       "      <td>The Accidental Tourist Anne Tyler</td>\n",
       "    </tr>\n",
       "    <tr>\n",
       "      <th>471824</th>\n",
       "      <td>Tee Evergreens</td>\n",
       "      <td>Jane Pettigrew</td>\n",
       "      <td>Benedikt Taschen Verlag</td>\n",
       "      <td>http://images.amazon.com/images/P/3822875716.0...</td>\n",
       "      <td>16654</td>\n",
       "      <td>8</td>\n",
       "      <td>Tee Evergreens Jane Pettigrew</td>\n",
       "    </tr>\n",
       "    <tr>\n",
       "      <th>302984</th>\n",
       "      <td>Vengeance of the Dancing Gods</td>\n",
       "      <td>Jack L. Chalker</td>\n",
       "      <td>Del Rey Books</td>\n",
       "      <td>http://images.amazon.com/images/P/0345315499.0...</td>\n",
       "      <td>255544</td>\n",
       "      <td>5</td>\n",
       "      <td>Vengeance of the Dancing Gods Jack L. Chalker</td>\n",
       "    </tr>\n",
       "    <tr>\n",
       "      <th>1001585</th>\n",
       "      <td>Mommy s Little Girl On Sex Motherhood Porn and...</td>\n",
       "      <td>Susie Bright</td>\n",
       "      <td>Thunder's Mouth Press</td>\n",
       "      <td>http://images.amazon.com/images/P/156025551X.0...</td>\n",
       "      <td>4938</td>\n",
       "      <td>8</td>\n",
       "      <td>Mommy s Little Girl On Sex Motherhood Porn and...</td>\n",
       "    </tr>\n",
       "    <tr>\n",
       "      <th>493602</th>\n",
       "      <td>Towing Jehovah</td>\n",
       "      <td>James Morrow</td>\n",
       "      <td>Harcourt</td>\n",
       "      <td>http://images.amazon.com/images/P/0151909199.0...</td>\n",
       "      <td>210959</td>\n",
       "      <td>10</td>\n",
       "      <td>Towing Jehovah James Morrow</td>\n",
       "    </tr>\n",
       "    <tr>\n",
       "      <th>377151</th>\n",
       "      <td>Dreamer</td>\n",
       "      <td>Richard L. Miller</td>\n",
       "      <td>Two-Sixty Press</td>\n",
       "      <td>http://images.amazon.com/images/P/0966941411.0...</td>\n",
       "      <td>173743</td>\n",
       "      <td>9</td>\n",
       "      <td>Dreamer Richard L. Miller</td>\n",
       "    </tr>\n",
       "    <tr>\n",
       "      <th>876942</th>\n",
       "      <td>Haroun and the Sea of Stories Puffin Books</td>\n",
       "      <td>Salman Rushdie</td>\n",
       "      <td>Puffin Books</td>\n",
       "      <td>http://images.amazon.com/images/P/0140366504.0...</td>\n",
       "      <td>70703</td>\n",
       "      <td>9</td>\n",
       "      <td>Haroun and the Sea of Stories Puffin Books Sal...</td>\n",
       "    </tr>\n",
       "    <tr>\n",
       "      <th>606464</th>\n",
       "      <td>Yu Gi Oh Yu Gi Oh</td>\n",
       "      <td>Kazuki Takahashi</td>\n",
       "      <td>VIZ LLC</td>\n",
       "      <td>http://images.amazon.com/images/P/1591163633.0...</td>\n",
       "      <td>30072</td>\n",
       "      <td>9</td>\n",
       "      <td>Yu Gi Oh Yu Gi Oh Kazuki Takahashi</td>\n",
       "    </tr>\n",
       "    <tr>\n",
       "      <th>74648</th>\n",
       "      <td>The Last Time They Met A Novel</td>\n",
       "      <td>Anita Shreve</td>\n",
       "      <td>Back Bay Books</td>\n",
       "      <td>http://images.amazon.com/images/P/0316781266.0...</td>\n",
       "      <td>88793</td>\n",
       "      <td>8</td>\n",
       "      <td>The Last Time They Met A Novel Anita Shreve</td>\n",
       "    </tr>\n",
       "    <tr>\n",
       "      <th>375342</th>\n",
       "      <td>A Dog Year Twelve Months Four Dogs and Me</td>\n",
       "      <td>Jon Katz</td>\n",
       "      <td>Villard Books</td>\n",
       "      <td>http://images.amazon.com/images/P/0375502971.0...</td>\n",
       "      <td>58447</td>\n",
       "      <td>10</td>\n",
       "      <td>A Dog Year Twelve Months Four Dogs and Me Jon ...</td>\n",
       "    </tr>\n",
       "  </tbody>\n",
       "</table>\n",
       "</div>"
      ],
      "text/plain": [
       "                                                Book-Title        Book-Author  \\\n",
       "284992                              The Accidental Tourist         Anne Tyler   \n",
       "471824                                      Tee Evergreens     Jane Pettigrew   \n",
       "302984                       Vengeance of the Dancing Gods    Jack L. Chalker   \n",
       "1001585  Mommy s Little Girl On Sex Motherhood Porn and...       Susie Bright   \n",
       "493602                                      Towing Jehovah       James Morrow   \n",
       "377151                                             Dreamer  Richard L. Miller   \n",
       "876942          Haroun and the Sea of Stories Puffin Books     Salman Rushdie   \n",
       "606464                                   Yu Gi Oh Yu Gi Oh   Kazuki Takahashi   \n",
       "74648                       The Last Time They Met A Novel       Anita Shreve   \n",
       "375342           A Dog Year Twelve Months Four Dogs and Me           Jon Katz   \n",
       "\n",
       "                        Publisher  \\\n",
       "284992   Berkley Publishing Group   \n",
       "471824    Benedikt Taschen Verlag   \n",
       "302984              Del Rey Books   \n",
       "1001585     Thunder's Mouth Press   \n",
       "493602                   Harcourt   \n",
       "377151            Two-Sixty Press   \n",
       "876942               Puffin Books   \n",
       "606464                    VIZ LLC   \n",
       "74648              Back Bay Books   \n",
       "375342              Villard Books   \n",
       "\n",
       "                                               Image-URL-L  UserId  \\\n",
       "284992   http://images.amazon.com/images/P/0425092917.0...  110214   \n",
       "471824   http://images.amazon.com/images/P/3822875716.0...   16654   \n",
       "302984   http://images.amazon.com/images/P/0345315499.0...  255544   \n",
       "1001585  http://images.amazon.com/images/P/156025551X.0...    4938   \n",
       "493602   http://images.amazon.com/images/P/0151909199.0...  210959   \n",
       "377151   http://images.amazon.com/images/P/0966941411.0...  173743   \n",
       "876942   http://images.amazon.com/images/P/0140366504.0...   70703   \n",
       "606464   http://images.amazon.com/images/P/1591163633.0...   30072   \n",
       "74648    http://images.amazon.com/images/P/0316781266.0...   88793   \n",
       "375342   http://images.amazon.com/images/P/0375502971.0...   58447   \n",
       "\n",
       "         Book-Rating                                       all_features  \n",
       "284992             9                  The Accidental Tourist Anne Tyler  \n",
       "471824             8                      Tee Evergreens Jane Pettigrew  \n",
       "302984             5      Vengeance of the Dancing Gods Jack L. Chalker  \n",
       "1001585            8  Mommy s Little Girl On Sex Motherhood Porn and...  \n",
       "493602            10                        Towing Jehovah James Morrow  \n",
       "377151             9                          Dreamer Richard L. Miller  \n",
       "876942             9  Haroun and the Sea of Stories Puffin Books Sal...  \n",
       "606464             9                 Yu Gi Oh Yu Gi Oh Kazuki Takahashi  \n",
       "74648              8        The Last Time They Met A Novel Anita Shreve  \n",
       "375342            10  A Dog Year Twelve Months Four Dogs and Me Jon ...  "
      ]
     },
     "execution_count": 16,
     "metadata": {},
     "output_type": "execute_result"
    }
   ],
   "source": [
    "print(df.info())\n",
    "df.sample(10)"
   ]
  },
  {
   "cell_type": "markdown",
   "id": "b588ba4c",
   "metadata": {},
   "source": [
    "Jumlah baris: 383,838\n",
    "Kolom: 7 (Book-Title, Book-Author, Publisher, Image-URL-L, UserId, Book-Rating, all_features)\n",
    "Semua kolom tidak memiliki missing value (non-null count sama dengan jumlah baris)\n",
    "Tipe data: Book-Title, Book-Author, Publisher, Image-URL-L, all_features bertipe objek (string); UserId dan Book-Rating bertipe integer"
   ]
  },
  {
   "cell_type": "markdown",
   "id": "27a921ff",
   "metadata": {},
   "source": [
    "Reduksi Data dengan menghapus Diplikasi terhadap Book-Title"
   ]
  },
  {
   "cell_type": "code",
   "execution_count": 17,
   "id": "f4d31dda",
   "metadata": {},
   "outputs": [],
   "source": [
    "#Mereduksi Banyaknya data dengan Menghapus Duplikasi dari Buku dan Menyimpan kedalam Dataframe baru\n",
    "df_unique = df.drop_duplicates(subset=['Book-Title']).reset_index(drop=True)"
   ]
  },
  {
   "cell_type": "markdown",
   "id": "01b4869a",
   "metadata": {},
   "source": [
    "Baris kode diatas digunakan untuk mengurangi jumlah data dengan menghapus duplikasi berdasarkan kolom \"Book-Title\" dan menyimpan hasilnya ke dalam dataframe baru df_unique. Setiap judul buku hanya akan muncul satu kali, sehingga proses rekomendasi berbasis konten menjadi lebih efisien dan tidak bias terhadap buku yang sama."
   ]
  },
  {
   "cell_type": "markdown",
   "id": "7bf59752",
   "metadata": {},
   "source": [
    "Ekstraksi Fitur Dengan Tf-IDF dan Mengkombinasikan dengan CountVectorizer"
   ]
  },
  {
   "cell_type": "code",
   "execution_count": 18,
   "id": "c8524294",
   "metadata": {},
   "outputs": [],
   "source": [
    "# TF-IDF Vectorizer (sudah ada)\n",
    "tfidf = TfidfVectorizer()\n",
    "tfidf_matrix = tfidf.fit_transform(df_unique['all_features'])\n",
    "\n",
    "# CountVectorizer dengan ngram (unigram + bigram)\n",
    "count_vect = CountVectorizer(ngram_range=(1,2), min_df=2)\n",
    "count_matrix = count_vect.fit_transform(df_unique['all_features'])\n",
    "\n",
    "# Gabungkan kedua matriks fitur\n",
    "combined_matrix = hstack([tfidf_matrix, count_matrix])"
   ]
  },
  {
   "cell_type": "markdown",
   "id": "8e67ee1e",
   "metadata": {},
   "source": [
    "Baris kode diatas digunakan untuk mengekstraksi fitur dari kolom all_features pada dataframe df_unique menggunakan TF-IDF (Term Frequency-Inverse Document Frequency). Hasilnya adalah matriks fitur numerik (tfidf_matrix) yang akan digunakan untuk menghitung kemiripan antar buku pada sistem rekomendasi berbasis konten."
   ]
  },
  {
   "cell_type": "markdown",
   "id": "bd4f6a68",
   "metadata": {},
   "source": [
    "Setelah semua tahapan Preparation diatas, data kita sudah siap untuk digunakan dalam pembuatan model rekomendasi buku kita"
   ]
  },
  {
   "cell_type": "markdown",
   "id": "b4841ddc",
   "metadata": {},
   "source": [
    "<h1><i>Modeling</i></h1>"
   ]
  },
  {
   "cell_type": "markdown",
   "id": "7048e578",
   "metadata": {},
   "source": [
    "<h1>CONTENT BASED FILTERING</h1>"
   ]
  },
  {
   "cell_type": "markdown",
   "id": "15831fee",
   "metadata": {},
   "source": [
    "Model Development dengan Content Based Filtering adalah proses membangun sistem rekomendasi buku yang merekomendasikan buku kepada user berdasarkan kemiripan konten atau atribut buku itu sendiri, seperti judul, penulis, atau deskripsi.\n",
    "Pada pendekatan ini, sistem akan mencari buku-buku yang memiliki kemiripan fitur (misal: judul atau penulis yang mirip) tanpa memperhatikan preferensi user lain.\n",
    "Jadi, rekomendasi dihasilkan dari analisis konten buku, bukan dari perilaku user lain."
   ]
  },
  {
   "cell_type": "markdown",
   "id": "23310895",
   "metadata": {},
   "source": [
    "Langkah dalam Pembuatan model ini adalah"
   ]
  },
  {
   "cell_type": "markdown",
   "id": "e689146d",
   "metadata": {},
   "source": [
    "<ol>\n",
    "<li><i>Definisi Fungsi Rekomendasi</i></li>\n",
    "<li><i>Cek Judul Buku</i></li>\n",
    "<li><i>Cari Index Judul Buku</i></li>\n",
    "<li><i>Hitung Kemiripan (Cosine Similarity)</i></li>\n",
    "<li><i>Ambil Rata-rata Rating per Judul</i></li>\n",
    "<li><i>Normalisasi Rating</i></li>\n",
    "<li><i>Gabungkan Skor Similarity dan Rating</i></li>\n",
    "<li><i>Ambil Top-k Rekomendasi</i></li>\n",
    "<li><i>Ambil Data Buku Rekomendasi</i></li>\n",
    "<li><i>Sortir dan Format Output</i></li>\n",
    "</ol>"
   ]
  },
  {
   "cell_type": "code",
   "execution_count": 19,
   "id": "ba1a253f",
   "metadata": {},
   "outputs": [],
   "source": [
    "def book_recommendations(book_title, items=df_unique[['Book-Title', 'Book-Author', 'Publisher', 'Image-URL-L']], k=10, alpha=0.7):\n",
    "    if book_title not in df_unique['Book-Title'].values:\n",
    "        print(\"Judul buku tidak ditemukan.\")\n",
    "        return None\n",
    "    idx = df_unique[df_unique['Book-Title'] == book_title].index[0]\n",
    "    # Gunakan combined_matrix untuk similarity\n",
    "    sim_scores = cosine_similarity(combined_matrix[idx], combined_matrix).flatten()\n",
    "    avg_rating = df.groupby('Book-Title')['Book-Rating'].mean().reindex(df_unique['Book-Title']).fillna(0)\n",
    "    norm_rating = (avg_rating - avg_rating.min()) / (avg_rating.max() - avg_rating.min())\n",
    "    final_score = alpha * sim_scores + (1 - alpha) * norm_rating.values\n",
    "    similar_indices = final_score.argsort()[::-1]\n",
    "    similar_indices = [i for i in similar_indices if i != idx][:k]\n",
    "    recommended = df_unique.iloc[similar_indices][['Book-Title', 'Book-Author', 'Publisher', 'Image-URL-L']]\n",
    "    recommended['Similarity'] = sim_scores[similar_indices]\n",
    "    recommended['Avg-Rating'] = avg_rating.iloc[similar_indices].values\n",
    "    recommended = recommended.sort_values(by='Similarity', ascending=False).reset_index(drop=True)\n",
    "    recommended['Similarity'] = recommended['Similarity'].round(2) * 100\n",
    "    recommended['Avg-Rating'] = recommended['Avg-Rating'].round(2)\n",
    "    return recommended"
   ]
  },
  {
   "cell_type": "markdown",
   "id": "9c521ad1",
   "metadata": {},
   "source": [
    "Setelah kita mendefinisikan Fungsi sesuai dengan alur yang sudah kita tentukan, Selanjutnya kita akan Mengevaluasi model untuk menilai apakah model yang kita buat dapat bekerja dengan baik"
   ]
  },
  {
   "cell_type": "markdown",
   "id": "96cfbb0d",
   "metadata": {},
   "source": [
    "<i>Evaluasi Model CBF</i>"
   ]
  },
  {
   "cell_type": "code",
   "execution_count": 20,
   "id": "5753588f",
   "metadata": {},
   "outputs": [
    {
     "name": "stdout",
     "output_type": "stream",
     "text": [
      "Precision@10 untuk 50 buku: 0.27\n"
     ]
    },
    {
     "data": {
      "image/png": "[encoded data removed]",
      "text/plain": [
       "<Figure size 800x500 with 1 Axes>"
      ]
     },
     "metadata": {},
     "output_type": "display_data"
    }
   ],
   "source": [
    "def precision_at_k_cbf(df_unique, k=10, n_books=50, plot=True):\n",
    "    \"\"\"\n",
    "    Precision@k untuk CBF: relevan jika Book-Author sama dengan buku acuan.\n",
    "    Sekaligus menampilkan distribusi precision@k.\n",
    "    \"\"\"\n",
    "    sampled_books = df_unique['Book-Title'].sample(n=n_books, random_state=42)\n",
    "    precisions = []\n",
    "\n",
    "    for book_title in sampled_books:\n",
    "        author = df_unique[df_unique['Book-Title'] == book_title]['Book-Author'].values[0]\n",
    "        recs = book_recommendations(book_title, k=k)\n",
    "        if recs is None or recs.empty:\n",
    "            continue\n",
    "        relevant = (recs['Book-Author'] == author).sum()\n",
    "        precisions.append(relevant / k)\n",
    "\n",
    "    if precisions:\n",
    "        mean_precision = np.mean(precisions)\n",
    "        print(f\"Precision@{k} untuk {n_books} buku: {mean_precision:.2f}\")\n",
    "        if plot:\n",
    "            plt.figure(figsize=(8,5))\n",
    "            bins = np.arange(0, 1.1, 0.1)\n",
    "            plt.hist(precisions, bins=bins, rwidth=0.8, color='skyblue', edgecolor='black')\n",
    "            plt.title(f'Distribusi Precision@{k} untuk {n_books} Buku')\n",
    "            plt.xlabel(f'Precision@{k} (Proporsi Rekomendasi Relevan)')\n",
    "            plt.ylabel('Jumlah Buku')\n",
    "            plt.xticks(bins, [f\"{b:.1f}\" for b in bins])\n",
    "            plt.grid(axis='y', linestyle='--', alpha=0.7)\n",
    "            plt.tight_layout()\n",
    "            plt.show()\n",
    "    else:\n",
    "        print(\"Tidak ada data yang bisa dievaluasi.\")\n",
    "\n",
    "# Contoh pemanggilan evaluasi precision@k dengan visualisasi\n",
    "precision_at_k_cbf(df_unique, k=10, n_books=50)"
   ]
  },
  {
   "cell_type": "markdown",
   "id": "9fb6a2f8",
   "metadata": {},
   "source": [
    "Hasil dari evaluasi kita dapatkan : Precision@10 untuk 50 buku: **0.27** yang berarti Nilai precision@10 sebesar 0.27 rata-rata hanya 27% dari 10 rekomendasi teratas yang benar-benar berasal dari penulis yang sama dengan buku acuan. Hal ini menunjukkan bahwa sistem CBF Kita cenderung memberikan rekomendasi yang bervariasi secara penulis, namun tetap ada sebagian rekomendasi yang sangat relevan secara penulis. Jika target utama adalah merekomendasikan buku dari penulis yang sama, precision@10 ini dapat dijadikan acuan untuk perbaikan lebih lanjut, misalnya dengan menambah bobot fitur penulis pada proses ekstraksi fitur."
   ]
  },
  {
   "cell_type": "markdown",
   "id": "63118447",
   "metadata": {},
   "source": [
    "<i>Penerapan Model</i>"
   ]
  },
  {
   "cell_type": "code",
   "execution_count": 21,
   "id": "e51b86cb",
   "metadata": {},
   "outputs": [
    {
     "data": {
      "text/html": [
       "<div>\n",
       "<style scoped>\n",
       "    .dataframe tbody tr th:only-of-type {\n",
       "        vertical-align: middle;\n",
       "    }\n",
       "\n",
       "    .dataframe tbody tr th {\n",
       "        vertical-align: top;\n",
       "    }\n",
       "\n",
       "    .dataframe thead th {\n",
       "        text-align: right;\n",
       "    }\n",
       "</style>\n",
       "<table border=\"1\" class=\"dataframe\">\n",
       "  <thead>\n",
       "    <tr style=\"text-align: right;\">\n",
       "      <th></th>\n",
       "      <th>Book-Title</th>\n",
       "      <th>Book-Author</th>\n",
       "      <th>Publisher</th>\n",
       "      <th>Image-URL-L</th>\n",
       "      <th>Similarity</th>\n",
       "      <th>Avg-Rating</th>\n",
       "    </tr>\n",
       "  </thead>\n",
       "  <tbody>\n",
       "    <tr>\n",
       "      <th>0</th>\n",
       "      <td>A Gracious Plenty</td>\n",
       "      <td>Sheri Reynolds</td>\n",
       "      <td>Random House Inc</td>\n",
       "      <td>http://images.amazon.com/images/P/060960225X.0...</td>\n",
       "      <td>88.0</td>\n",
       "      <td>8.58</td>\n",
       "    </tr>\n",
       "    <tr>\n",
       "      <th>1</th>\n",
       "      <td>Bitterroot Landing</td>\n",
       "      <td>Sheri Reynolds</td>\n",
       "      <td>Putnam Pub Group</td>\n",
       "      <td>http://images.amazon.com/images/P/039913994X.0...</td>\n",
       "      <td>46.0</td>\n",
       "      <td>7.50</td>\n",
       "    </tr>\n",
       "    <tr>\n",
       "      <th>2</th>\n",
       "      <td>The Companions A Novel</td>\n",
       "      <td>Sheri S. Tepper</td>\n",
       "      <td>Eos</td>\n",
       "      <td>http://images.amazon.com/images/P/006053821X.0...</td>\n",
       "      <td>37.0</td>\n",
       "      <td>8.00</td>\n",
       "    </tr>\n",
       "    <tr>\n",
       "      <th>3</th>\n",
       "      <td>The Mammoth Cheese A Novel</td>\n",
       "      <td>Sheri Holman</td>\n",
       "      <td>Atlantic Monthly Press</td>\n",
       "      <td>http://images.amazon.com/images/P/0871139006.0...</td>\n",
       "      <td>34.0</td>\n",
       "      <td>8.00</td>\n",
       "    </tr>\n",
       "    <tr>\n",
       "      <th>4</th>\n",
       "      <td>The Rapture of Canaan</td>\n",
       "      <td>Sheri Reynolds</td>\n",
       "      <td>Berkley Publishing Group</td>\n",
       "      <td>http://images.amazon.com/images/P/0425162443.0...</td>\n",
       "      <td>34.0</td>\n",
       "      <td>7.37</td>\n",
       "    </tr>\n",
       "    <tr>\n",
       "      <th>5</th>\n",
       "      <td>Miniplanner A Novel</td>\n",
       "      <td>Abha Dawesar</td>\n",
       "      <td>Cleis Press</td>\n",
       "      <td>http://images.amazon.com/images/P/1573441155.0...</td>\n",
       "      <td>25.0</td>\n",
       "      <td>10.00</td>\n",
       "    </tr>\n",
       "    <tr>\n",
       "      <th>6</th>\n",
       "      <td>FORESEEABLE FUTURE</td>\n",
       "      <td>Reynolds Price</td>\n",
       "      <td>Scribner</td>\n",
       "      <td>http://images.amazon.com/images/P/0689121105.0...</td>\n",
       "      <td>18.0</td>\n",
       "      <td>10.00</td>\n",
       "    </tr>\n",
       "    <tr>\n",
       "      <th>7</th>\n",
       "      <td>Wildcatting A Novel</td>\n",
       "      <td>Shann Nix</td>\n",
       "      <td>Bantam Dell Pub Group</td>\n",
       "      <td>http://images.amazon.com/images/P/0385424116.0...</td>\n",
       "      <td>18.0</td>\n",
       "      <td>10.00</td>\n",
       "    </tr>\n",
       "    <tr>\n",
       "      <th>8</th>\n",
       "      <td>Triage A Novel</td>\n",
       "      <td>Scott Anderson</td>\n",
       "      <td>Scribner Paper Fiction</td>\n",
       "      <td>http://images.amazon.com/images/P/0684856530.0...</td>\n",
       "      <td>16.0</td>\n",
       "      <td>10.00</td>\n",
       "    </tr>\n",
       "    <tr>\n",
       "      <th>9</th>\n",
       "      <td>Absolution Gap</td>\n",
       "      <td>Alastair Reynolds</td>\n",
       "      <td>Ace Books</td>\n",
       "      <td>http://images.amazon.com/images/P/0441011586.0...</td>\n",
       "      <td>16.0</td>\n",
       "      <td>10.00</td>\n",
       "    </tr>\n",
       "  </tbody>\n",
       "</table>\n",
       "</div>"
      ],
      "text/plain": [
       "                   Book-Title        Book-Author                 Publisher  \\\n",
       "0           A Gracious Plenty     Sheri Reynolds          Random House Inc   \n",
       "1          Bitterroot Landing     Sheri Reynolds          Putnam Pub Group   \n",
       "2      The Companions A Novel    Sheri S. Tepper                       Eos   \n",
       "3  The Mammoth Cheese A Novel       Sheri Holman    Atlantic Monthly Press   \n",
       "4       The Rapture of Canaan     Sheri Reynolds  Berkley Publishing Group   \n",
       "5         Miniplanner A Novel       Abha Dawesar               Cleis Press   \n",
       "6          FORESEEABLE FUTURE     Reynolds Price                  Scribner   \n",
       "7         Wildcatting A Novel          Shann Nix     Bantam Dell Pub Group   \n",
       "8              Triage A Novel     Scott Anderson    Scribner Paper Fiction   \n",
       "9              Absolution Gap  Alastair Reynolds                 Ace Books   \n",
       "\n",
       "                                         Image-URL-L  Similarity  Avg-Rating  \n",
       "0  http://images.amazon.com/images/P/060960225X.0...        88.0        8.58  \n",
       "1  http://images.amazon.com/images/P/039913994X.0...        46.0        7.50  \n",
       "2  http://images.amazon.com/images/P/006053821X.0...        37.0        8.00  \n",
       "3  http://images.amazon.com/images/P/0871139006.0...        34.0        8.00  \n",
       "4  http://images.amazon.com/images/P/0425162443.0...        34.0        7.37  \n",
       "5  http://images.amazon.com/images/P/1573441155.0...        25.0       10.00  \n",
       "6  http://images.amazon.com/images/P/0689121105.0...        18.0       10.00  \n",
       "7  http://images.amazon.com/images/P/0385424116.0...        18.0       10.00  \n",
       "8  http://images.amazon.com/images/P/0684856530.0...        16.0       10.00  \n",
       "9  http://images.amazon.com/images/P/0441011586.0...        16.0       10.00  "
      ]
     },
     "execution_count": 21,
     "metadata": {},
     "output_type": "execute_result"
    }
   ],
   "source": [
    "\n",
    "book_recommendations('A Gracious Plenty A Novel')"
   ]
  },
  {
   "cell_type": "markdown",
   "id": "9804c009",
   "metadata": {},
   "source": [
    "Dari Output diatas dapat kita lihat rekomendasi untuk buku berjudul \"A Gracious Plenty A Novel\" memiliki 10 rekomendasi dengan patokan Similarity adalah Book-title dan Book-Author serta ikut mempertimbangkan untuk NIlai Similarity dan Avg-Rating teratas sehingga tidak menampilkan Similarity 0 dan Avg-Rating 0"
   ]
  },
  {
   "cell_type": "markdown",
   "id": "b6ad98be",
   "metadata": {},
   "source": [
    "<h1>Collaborative Filtering</h1>"
   ]
  },
  {
   "cell_type": "markdown",
   "id": "482ab8b7",
   "metadata": {},
   "source": [
    "Collaborative filtering adalah teknik yang digunakan dalam sistem rekomendasi untuk membuat prediksi otomatis tentang minat seorang pengguna dengan mengumpulkan preferensi atau informasi selera dari banyak pengguna (berkolaborasi). Ide dasarnya adalah jika seseorang A memiliki opini yang sama dengan seseorang B pada suatu isu, A lebih mungkin memiliki opini yang sama dengan B pada isu lain dibandingkan dengan orang yang dipilih secara acak.\n",
    "Dalam Case ini kita akan menggunakan Rating book dan UserId untuk menampilkan rekomendasi kepada user"
   ]
  },
  {
   "cell_type": "markdown",
   "id": "4c717daf",
   "metadata": {},
   "source": [
    "<h2>Load Dataset</h2>"
   ]
  },
  {
   "cell_type": "markdown",
   "id": "92a31066",
   "metadata": {},
   "source": [
    "1.Membaca dataset Rating terlebih dahulu namun karena ukuran dataset yang sangat besar, kita akan membatasi pengunaan dataset menjadi 20000 teratas dan di sort berdasarkan rating dan terapkan penyeimbangan pengambilan tiap data agar memiliki nilai sebaran yang seimbang"
   ]
  },
  {
   "cell_type": "code",
   "execution_count": 22,
   "id": "115bf88d",
   "metadata": {},
   "outputs": [
    {
     "name": "stdout",
     "output_type": "stream",
     "text": [
      "5     3333\n",
      "6     3333\n",
      "7     3333\n",
      "8     3333\n",
      "9     3333\n",
      "10    3333\n",
      "Name: Book-Rating, dtype: int64\n",
      "Total data: 19998\n"
     ]
    }
   ],
   "source": [
    "# Filter rating minimal 5\n",
    "ratings_filtered = ratings[ratings['Book-Rating'] >= 5]\n",
    "\n",
    "# Tentukan jumlah sample per rating (misal: 6 kelas rating 5-10, 20000/6 ≈ 3333 per kelas)\n",
    "ratings_per_class = 20000 // len(ratings_filtered['Book-Rating'].unique())\n",
    "\n",
    "# Ambil sample seimbang untuk setiap rating\n",
    "balanced_samples = (\n",
    "    ratings_filtered.groupby('Book-Rating', group_keys=False)\n",
    "    .apply(lambda x: x.sample(min(len(x), ratings_per_class), random_state=42))\n",
    ")\n",
    "# Gabungkan dengan books\n",
    "df_tf = balanced_samples.merge(books, on='ISBN', how='left')\n",
    "\n",
    "# Cek distribusi rating\n",
    "print(balanced_samples['Book-Rating'].value_counts())\n",
    "print(\"Total data:\", len(balanced_samples))"
   ]
  },
  {
   "cell_type": "markdown",
   "id": "d61c7917",
   "metadata": {},
   "source": [
    "<h2>Data Preparation</h2>"
   ]
  },
  {
   "cell_type": "markdown",
   "id": "29d98d99",
   "metadata": {},
   "source": [
    "<i>1.Melakukan Encoding pada ISBN sebagai patokan untuk Sistem Rekomendasi kita</i>"
   ]
  },
  {
   "cell_type": "code",
   "execution_count": 23,
   "id": "72bedd51",
   "metadata": {},
   "outputs": [],
   "source": [
    "# Membuat list ISBN unik\n",
    "isbn_ids = df_tf['ISBN'].unique().tolist()\n",
    "\n",
    "# Encoding ISBN ke angka\n",
    "isbn_to_encoded = {x: i for i, x in enumerate(isbn_ids)}\n",
    "\n",
    "# Encoding angka ke ISBN\n",
    "encoded_to_isbn = {i: x for i, x in enumerate(isbn_ids)}\n",
    "\n",
    "# Terapkan encoding ke kolom ISBN pada df_tf\n",
    "df_tf['ISBN'] = df_tf['ISBN'].map(isbn_to_encoded)"
   ]
  },
  {
   "cell_type": "markdown",
   "id": "5aa167dd",
   "metadata": {},
   "source": [
    "Kode di atas melakukan proses encoding pada kolom ISBN di dataframe df_tf agar setiap ISBN (yang semula berupa string unik) diubah menjadi angka integer unik. Langkah pertama adalah membuat daftar semua ISBN unik dari kolom ISBN, lalu membuat dua dictionary: isbn_to_encoded untuk mengubah ISBN menjadi angka, dan encoded_to_isbn untuk mengubah angka kembali ke ISBN aslinya. Setelah itu, kolom ISBN pada df_tf diubah nilainya dari string menjadi angka menggunakan mapping isbn_to_encoded. Proses ini penting agar data ISBN dapat digunakan sebagai input numerik pada model machine learning, khususnya pada layer embedding di model rekomendasi."
   ]
  },
  {
   "cell_type": "markdown",
   "id": "aa56bd35",
   "metadata": {},
   "source": [
    "<i>2.Menghapus Null atau Nan values dan kolom yang tidak diperlukan seperti Year-Of-Publication Image-URL-S Image-URL-L  </i>"
   ]
  },
  {
   "cell_type": "code",
   "execution_count": 24,
   "id": "b425fbca",
   "metadata": {},
   "outputs": [
    {
     "name": "stdout",
     "output_type": "stream",
     "text": [
      "<class 'pandas.core.frame.DataFrame'>\n",
      "RangeIndex: 17717 entries, 0 to 17716\n",
      "Data columns (total 6 columns):\n",
      " #   Column       Non-Null Count  Dtype \n",
      "---  ------       --------------  ----- \n",
      " 0   UserId       17717 non-null  int64 \n",
      " 1   ISBN         17717 non-null  int64 \n",
      " 2   Book-Rating  17717 non-null  int64 \n",
      " 3   Book-Title   17717 non-null  object\n",
      " 4   Book-Author  17717 non-null  object\n",
      " 5   Publisher    17717 non-null  object\n",
      "dtypes: int64(3), object(3)\n",
      "memory usage: 830.6+ KB\n"
     ]
    },
    {
     "data": {
      "text/html": [
       "<div>\n",
       "<style scoped>\n",
       "    .dataframe tbody tr th:only-of-type {\n",
       "        vertical-align: middle;\n",
       "    }\n",
       "\n",
       "    .dataframe tbody tr th {\n",
       "        vertical-align: top;\n",
       "    }\n",
       "\n",
       "    .dataframe thead th {\n",
       "        text-align: right;\n",
       "    }\n",
       "</style>\n",
       "<table border=\"1\" class=\"dataframe\">\n",
       "  <thead>\n",
       "    <tr style=\"text-align: right;\">\n",
       "      <th></th>\n",
       "      <th>UserId</th>\n",
       "      <th>ISBN</th>\n",
       "      <th>Book-Rating</th>\n",
       "      <th>Book-Title</th>\n",
       "      <th>Book-Author</th>\n",
       "      <th>Publisher</th>\n",
       "    </tr>\n",
       "  </thead>\n",
       "  <tbody>\n",
       "    <tr>\n",
       "      <th>10023</th>\n",
       "      <td>237433</td>\n",
       "      <td>10085</td>\n",
       "      <td>8</td>\n",
       "      <td>Murder Between the Covers: A Dead End Job Mystery</td>\n",
       "      <td>Elaine Viets</td>\n",
       "      <td>Signet Book</td>\n",
       "    </tr>\n",
       "    <tr>\n",
       "      <th>757</th>\n",
       "      <td>185233</td>\n",
       "      <td>857</td>\n",
       "      <td>5</td>\n",
       "      <td>The Eyes of the Dragon</td>\n",
       "      <td>Stephen King</td>\n",
       "      <td>Viking Books</td>\n",
       "    </tr>\n",
       "    <tr>\n",
       "      <th>7781</th>\n",
       "      <td>233648</td>\n",
       "      <td>8028</td>\n",
       "      <td>7</td>\n",
       "      <td>Living on the ragged edge: Coming to terms wit...</td>\n",
       "      <td>Charles R Swindoll</td>\n",
       "      <td>Word Books</td>\n",
       "    </tr>\n",
       "    <tr>\n",
       "      <th>1116</th>\n",
       "      <td>160401</td>\n",
       "      <td>1241</td>\n",
       "      <td>5</td>\n",
       "      <td>Now And Forever (Harlequin Romance, No 3056)</td>\n",
       "      <td>Elizabeth Barnes</td>\n",
       "      <td>Harlequin</td>\n",
       "    </tr>\n",
       "    <tr>\n",
       "      <th>7333</th>\n",
       "      <td>136213</td>\n",
       "      <td>7605</td>\n",
       "      <td>7</td>\n",
       "      <td>Alchemy and Academe</td>\n",
       "      <td>Anne McCaffrey</td>\n",
       "      <td>Del Rey Books</td>\n",
       "    </tr>\n",
       "    <tr>\n",
       "      <th>10680</th>\n",
       "      <td>197664</td>\n",
       "      <td>10660</td>\n",
       "      <td>8</td>\n",
       "      <td>Puppy Says 1, 2, 3 (Squeeze-and-Squeak Books)</td>\n",
       "      <td>Muff Singer</td>\n",
       "      <td>Simon &amp;amp; Schuster Merchandise &amp;amp;</td>\n",
       "    </tr>\n",
       "    <tr>\n",
       "      <th>980</th>\n",
       "      <td>153662</td>\n",
       "      <td>1094</td>\n",
       "      <td>5</td>\n",
       "      <td>A Kiss for Little Bear</td>\n",
       "      <td>Else Holmelund Minarik</td>\n",
       "      <td>HarperTrophy</td>\n",
       "    </tr>\n",
       "    <tr>\n",
       "      <th>10732</th>\n",
       "      <td>145131</td>\n",
       "      <td>3097</td>\n",
       "      <td>8</td>\n",
       "      <td>Firebrand (Mira Historical Romance)</td>\n",
       "      <td>Susan Wiggs</td>\n",
       "      <td>Mira</td>\n",
       "    </tr>\n",
       "    <tr>\n",
       "      <th>12320</th>\n",
       "      <td>163612</td>\n",
       "      <td>3739</td>\n",
       "      <td>9</td>\n",
       "      <td>Where the Heart Is (Oprah's Book Club (Paperba...</td>\n",
       "      <td>Billie Letts</td>\n",
       "      <td>Warner Books</td>\n",
       "    </tr>\n",
       "    <tr>\n",
       "      <th>3265</th>\n",
       "      <td>275220</td>\n",
       "      <td>3515</td>\n",
       "      <td>6</td>\n",
       "      <td>Rubyfruit Jungle</td>\n",
       "      <td>Rita Mae Brown</td>\n",
       "      <td>Bantam Books</td>\n",
       "    </tr>\n",
       "  </tbody>\n",
       "</table>\n",
       "</div>"
      ],
      "text/plain": [
       "       UserId   ISBN  Book-Rating  \\\n",
       "10023  237433  10085            8   \n",
       "757    185233    857            5   \n",
       "7781   233648   8028            7   \n",
       "1116   160401   1241            5   \n",
       "7333   136213   7605            7   \n",
       "10680  197664  10660            8   \n",
       "980    153662   1094            5   \n",
       "10732  145131   3097            8   \n",
       "12320  163612   3739            9   \n",
       "3265   275220   3515            6   \n",
       "\n",
       "                                              Book-Title  \\\n",
       "10023  Murder Between the Covers: A Dead End Job Mystery   \n",
       "757                               The Eyes of the Dragon   \n",
       "7781   Living on the ragged edge: Coming to terms wit...   \n",
       "1116        Now And Forever (Harlequin Romance, No 3056)   \n",
       "7333                                 Alchemy and Academe   \n",
       "10680      Puppy Says 1, 2, 3 (Squeeze-and-Squeak Books)   \n",
       "980                               A Kiss for Little Bear   \n",
       "10732                Firebrand (Mira Historical Romance)   \n",
       "12320  Where the Heart Is (Oprah's Book Club (Paperba...   \n",
       "3265                                    Rubyfruit Jungle   \n",
       "\n",
       "                  Book-Author                               Publisher  \n",
       "10023            Elaine Viets                             Signet Book  \n",
       "757              Stephen King                            Viking Books  \n",
       "7781       Charles R Swindoll                              Word Books  \n",
       "1116         Elizabeth Barnes                               Harlequin  \n",
       "7333           Anne McCaffrey                           Del Rey Books  \n",
       "10680             Muff Singer  Simon &amp; Schuster Merchandise &amp;  \n",
       "980    Else Holmelund Minarik                            HarperTrophy  \n",
       "10732             Susan Wiggs                                    Mira  \n",
       "12320            Billie Letts                            Warner Books  \n",
       "3265           Rita Mae Brown                            Bantam Books  "
      ]
     },
     "execution_count": 24,
     "metadata": {},
     "output_type": "execute_result"
    }
   ],
   "source": [
    "# Menghapus Null atau Nan values dan kolom yang tidak diperlukan seperti Year-Of-Publication, Image-URL-S, Image-URL-M, Image-URL-L\n",
    "df_tf.dropna(inplace=True)\n",
    "df_tf.reset_index(drop=True, inplace=True)\n",
    "df_tf.drop(columns=[\"Year-Of-Publication\", \"Image-URL-S\", \"Image-URL-M\", \"Image-URL-L\"], axis=1, inplace=True)\n",
    "df_tf.info()\n",
    "df_tf.sample(10)"
   ]
  },
  {
   "cell_type": "markdown",
   "id": "1fd70e65",
   "metadata": {},
   "source": [
    "Berdasarkan output dari kode pembersihan data di atas, dapat dilihat bahwa dataframe df_tf kini berisi 17.717 baris data tanpa nilai kosong (null) dan hanya memiliki kolom yang relevan untuk proses rekomendasi, yaitu: UserId, ISBN, Book-Rating, Book-Title, Book-Author, dan Publisher. Tiga kolom pertama bertipe numerik, sedangkan tiga kolom terakhir bertipe objek (teks). Contoh data yang ditampilkan menunjukkan variasi judul buku, penulis, dan penerbit, serta rentang rating buku dari 5 hingga 10. Hal ini menandakan data sudah bersih, terstruktur, dan siap digunakan untuk proses training model rekomendasi berbasis collaborative filtering, di mana setiap baris merepresentasikan interaksi unik antara user dan buku tertentu. Data yang sudah terfilter dan terstruktur seperti ini akan membantu model belajar pola preferensi pengguna dengan lebih baik dan menghasilkan rekomendasi yang lebih akurat."
   ]
  },
  {
   "cell_type": "markdown",
   "id": "dfc25127",
   "metadata": {},
   "source": [
    "<i>2.Membagi dataset menjadi Train dan Test</i>"
   ]
  },
  {
   "cell_type": "code",
   "execution_count": 25,
   "id": "dfaedc0a",
   "metadata": {},
   "outputs": [
    {
     "name": "stdout",
     "output_type": "stream",
     "text": [
      "(14173, 2) (3544, 2)\n"
     ]
    }
   ],
   "source": [
    "from sklearn.model_selection import train_test_split\n",
    "\n",
    "# Membuat variabel x untuk mencocokkan data UserId dan ISBN menjadi satu value\n",
    "x = df_tf[['UserId', 'ISBN']].values\n",
    "\n",
    "# Membuat variabel y untuk rating (Book-Rating), bisa dinormalisasi jika perlu\n",
    "min_rating = df_tf['Book-Rating'].min()\n",
    "max_rating = df_tf['Book-Rating'].max()\n",
    "y = df_tf['Book-Rating'].apply(lambda r: (r - min_rating) / (max_rating - min_rating)).values\n",
    "\n",
    "# Membagi menjadi 80% data train dan 20% data test\n",
    "x_train, x_test, y_train, y_test = train_test_split(\n",
    "    x, y, test_size=0.2, random_state=42, shuffle=True\n",
    ")\n",
    "\n",
    "print(x_train.shape, x_test.shape)"
   ]
  },
  {
   "cell_type": "markdown",
   "id": "2a68dc0b",
   "metadata": {},
   "source": [
    "Output (14173, 2) (3544, 2) menunjukkan bahwa setelah dilakukan pembagian data menggunakan train_test_split, sebanyak 80% data (14.173 baris) digunakan sebagai data training dan 20% data (3.544 baris) digunakan sebagai data testing. Masing-masing baris pada variabel x_train dan x_test berisi dua fitur, yaitu UserId dan ISBN yang sudah diencoding ke bentuk numerik. Pembagian ini memastikan model dapat dilatih pada sebagian besar data, lalu diuji performanya pada data yang belum pernah dilihat sebelumnya untuk mengukur kemampuan generalisasi model rekomendasi."
   ]
  },
  {
   "cell_type": "markdown",
   "id": "61ecfe7e",
   "metadata": {},
   "source": [
    "<i>3.Membuat Model Rekomendasi dengan Pendekatan rekomendasi berupa UserId,ISBN,Book-Rating</i>"
   ]
  },
  {
   "cell_type": "code",
   "execution_count": 26,
   "id": "471c2a20",
   "metadata": {},
   "outputs": [],
   "source": [
    "class RecommenderNet(tf.keras.Model):\n",
    "    def __init__(self, num_users, num_books, embedding_size, **kwargs):\n",
    "        super(RecommenderNet, self).__init__(**kwargs)\n",
    "        self.num_users = num_users\n",
    "        self.num_books = num_books\n",
    "        self.embedding_size = embedding_size\n",
    "\n",
    "        self.user_embedding = layers.Embedding(\n",
    "            input_dim=num_users,\n",
    "            output_dim=embedding_size,\n",
    "            embeddings_initializer='he_normal',\n",
    "            embeddings_regularizer=keras.regularizers.l2(1e-6)\n",
    "        )\n",
    "        self.user_bias = layers.Embedding(num_users, 1)\n",
    "        self.book_embedding = layers.Embedding(\n",
    "            input_dim=num_books,\n",
    "            output_dim=embedding_size,\n",
    "            embeddings_initializer='he_normal',\n",
    "            embeddings_regularizer=keras.regularizers.l2(1e-6)\n",
    "        )\n",
    "        self.book_bias = layers.Embedding(num_books, 1)\n",
    "\n",
    "    def call(self, inputs):\n",
    "        user_vector = self.user_embedding(inputs[:, 0])\n",
    "        user_bias = self.user_bias(inputs[:, 0])\n",
    "        book_vector = self.book_embedding(inputs[:, 1])\n",
    "        book_bias = self.book_bias(inputs[:, 1])\n",
    "\n",
    "        dot_user_book = tf.reduce_sum(user_vector * book_vector, axis=1, keepdims=True)\n",
    "        x = dot_user_book + user_bias + book_bias\n",
    "        return tf.nn.sigmoid(x)  # output antara 0-1 (rating dinormalisasi)"
   ]
  },
  {
   "cell_type": "markdown",
   "id": "b52af573",
   "metadata": {},
   "source": [
    "Kelas RecommenderNet di atas adalah implementasi model rekomendasi berbasis neural network dengan pendekatan embedding untuk collaborative filtering. Model ini menggunakan dua buah embedding layer, masing-masing untuk merepresentasikan user (user_embedding) dan buku (book_embedding) ke dalam vektor berdimensi lebih kecil (latent space), sehingga pola interaksi antara user dan buku dapat dipelajari secara efisien. Selain itu, terdapat bias untuk user (user_bias) dan buku (book_bias) yang membantu model menangkap kecenderungan rating spesifik dari masing-masing user dan buku. Pada fungsi call, vektor user dan buku dikalikan (dot product) untuk menghasilkan skor interaksi, lalu dijumlahkan dengan bias user dan buku, dan akhirnya dilewatkan ke fungsi aktivasi sigmoid agar output berada pada rentang 0-1 (sesuai dengan rating yang telah dinormalisasi). Model ini sangat efektif untuk mempelajari preferensi pengguna dan memberikan rekomendasi buku yang relevan berdasarkan pola rating historis."
   ]
  },
  {
   "cell_type": "markdown",
   "id": "2663b83a",
   "metadata": {},
   "source": [
    "<i>4.Penerapan Model</i>"
   ]
  },
  {
   "cell_type": "code",
   "execution_count": 27,
   "id": "4f8f4101",
   "metadata": {},
   "outputs": [],
   "source": [
    "# Inisialisasi model\n",
    "num_users = df_tf['UserId'].nunique()\n",
    "num_books = df_tf['ISBN'].nunique()\n",
    "model = RecommenderNet(num_users, num_books, 50)\n",
    "\n",
    "# Compile model\n",
    "model.compile(\n",
    "    loss=tf.keras.losses.BinaryCrossentropy(),\n",
    "    optimizer=keras.optimizers.Adam(learning_rate=0.001),\n",
    "    metrics=[tf.keras.metrics.RootMeanSquaredError()]\n",
    ")"
   ]
  },
  {
   "cell_type": "markdown",
   "id": "e80ac9e3",
   "metadata": {},
   "source": [
    "Kode di atas melakukan inisialisasi dan kompilasi model rekomendasi berbasis neural network. Pertama, jumlah user unik (num_users) dan jumlah buku unik (num_books) dihitung dari dataframe, lalu digunakan untuk membuat instance model RecommenderNet dengan ukuran embedding 50. Selanjutnya, model dikompilasi menggunakan fungsi loss BinaryCrossentropy, optimizer Adam dengan learning rate 0.001, dan metrik evaluasi RootMeanSquaredError. Langkah ini memastikan model siap untuk proses training, di mana model akan belajar memetakan interaksi user dan buku untuk memprediksi rating secara akurat."
   ]
  },
  {
   "cell_type": "markdown",
   "id": "fb0c16e2",
   "metadata": {},
   "source": [
    "<i>5. Menjalankan Train Model</i>"
   ]
  },
  {
   "cell_type": "code",
   "execution_count": 28,
   "id": "44599fc3",
   "metadata": {},
   "outputs": [
    {
     "name": "stdout",
     "output_type": "stream",
     "text": [
      "GPU detected: [PhysicalDevice(name='/physical_device:GPU:0', device_type='GPU')]\n",
      "Physical devices cannot be modified after being initialized\n",
      "Epoch 1/100\n",
      "222/222 [==============================] - 4s 12ms/step - loss: 0.6933 - root_mean_squared_error: 0.3439 - val_loss: 0.6929 - val_root_mean_squared_error: 0.3387\n",
      "Epoch 2/100\n",
      "222/222 [==============================] - 2s 11ms/step - loss: 0.6906 - root_mean_squared_error: 0.3421 - val_loss: 0.6926 - val_root_mean_squared_error: 0.3384\n",
      "Epoch 3/100\n",
      "222/222 [==============================] - 2s 11ms/step - loss: 0.6876 - root_mean_squared_error: 0.3398 - val_loss: 0.6923 - val_root_mean_squared_error: 0.3382\n",
      "Epoch 4/100\n",
      "222/222 [==============================] - 2s 11ms/step - loss: 0.6842 - root_mean_squared_error: 0.3373 - val_loss: 0.6921 - val_root_mean_squared_error: 0.3380\n",
      "Epoch 5/100\n",
      "222/222 [==============================] - 2s 11ms/step - loss: 0.6807 - root_mean_squared_error: 0.3347 - val_loss: 0.6919 - val_root_mean_squared_error: 0.3379\n",
      "Epoch 6/100\n",
      "222/222 [==============================] - 2s 11ms/step - loss: 0.6772 - root_mean_squared_error: 0.3320 - val_loss: 0.6918 - val_root_mean_squared_error: 0.3377\n",
      "Epoch 7/100\n",
      "222/222 [==============================] - 2s 11ms/step - loss: 0.6738 - root_mean_squared_error: 0.3295 - val_loss: 0.6916 - val_root_mean_squared_error: 0.3376\n",
      "Epoch 8/100\n",
      "222/222 [==============================] - 2s 11ms/step - loss: 0.6705 - root_mean_squared_error: 0.3270 - val_loss: 0.6915 - val_root_mean_squared_error: 0.3374\n",
      "Epoch 9/100\n",
      "222/222 [==============================] - 3s 11ms/step - loss: 0.6674 - root_mean_squared_error: 0.3247 - val_loss: 0.6914 - val_root_mean_squared_error: 0.3373\n",
      "Epoch 10/100\n",
      "222/222 [==============================] - 3s 11ms/step - loss: 0.6645 - root_mean_squared_error: 0.3224 - val_loss: 0.6913 - val_root_mean_squared_error: 0.3372\n",
      "Epoch 11/100\n",
      "222/222 [==============================] - 2s 11ms/step - loss: 0.6617 - root_mean_squared_error: 0.3203 - val_loss: 0.6912 - val_root_mean_squared_error: 0.3371\n",
      "Epoch 12/100\n",
      "222/222 [==============================] - 2s 11ms/step - loss: 0.6589 - root_mean_squared_error: 0.3182 - val_loss: 0.6912 - val_root_mean_squared_error: 0.3370\n",
      "Epoch 13/100\n",
      "222/222 [==============================] - 2s 11ms/step - loss: 0.6563 - root_mean_squared_error: 0.3162 - val_loss: 0.6911 - val_root_mean_squared_error: 0.3370\n",
      "Epoch 14/100\n",
      "222/222 [==============================] - 2s 11ms/step - loss: 0.6538 - root_mean_squared_error: 0.3142 - val_loss: 0.6910 - val_root_mean_squared_error: 0.3369\n",
      "Epoch 15/100\n",
      "222/222 [==============================] - 2s 11ms/step - loss: 0.6513 - root_mean_squared_error: 0.3123 - val_loss: 0.6910 - val_root_mean_squared_error: 0.3368\n",
      "Epoch 16/100\n",
      "222/222 [==============================] - 2s 11ms/step - loss: 0.6489 - root_mean_squared_error: 0.3105 - val_loss: 0.6909 - val_root_mean_squared_error: 0.3368\n",
      "Epoch 17/100\n",
      "222/222 [==============================] - 2s 11ms/step - loss: 0.6466 - root_mean_squared_error: 0.3086 - val_loss: 0.6909 - val_root_mean_squared_error: 0.3368\n",
      "Epoch 18/100\n",
      "222/222 [==============================] - 2s 11ms/step - loss: 0.6443 - root_mean_squared_error: 0.3068 - val_loss: 0.6909 - val_root_mean_squared_error: 0.3368\n",
      "Epoch 19/100\n",
      "222/222 [==============================] - 2s 11ms/step - loss: 0.6421 - root_mean_squared_error: 0.3050 - val_loss: 0.6909 - val_root_mean_squared_error: 0.3367\n",
      "Epoch 20/100\n",
      "222/222 [==============================] - 2s 10ms/step - loss: 0.6399 - root_mean_squared_error: 0.3033 - val_loss: 0.6909 - val_root_mean_squared_error: 0.3367\n",
      "Epoch 21/100\n",
      "222/222 [==============================] - 2s 11ms/step - loss: 0.6378 - root_mean_squared_error: 0.3015 - val_loss: 0.6909 - val_root_mean_squared_error: 0.3367\n",
      "Epoch 22/100\n",
      "222/222 [==============================] - 2s 11ms/step - loss: 0.6357 - root_mean_squared_error: 0.2998 - val_loss: 0.6909 - val_root_mean_squared_error: 0.3368\n",
      "Epoch 23/100\n",
      "222/222 [==============================] - 2s 11ms/step - loss: 0.6336 - root_mean_squared_error: 0.2982 - val_loss: 0.6910 - val_root_mean_squared_error: 0.3368\n",
      "Epoch 24/100\n",
      "222/222 [==============================] - 2s 11ms/step - loss: 0.6316 - root_mean_squared_error: 0.2965 - val_loss: 0.6910 - val_root_mean_squared_error: 0.3368\n",
      "Epoch 25/100\n",
      "222/222 [==============================] - 2s 11ms/step - loss: 0.6296 - root_mean_squared_error: 0.2949 - val_loss: 0.6911 - val_root_mean_squared_error: 0.3368\n"
     ]
    }
   ],
   "source": [
    "import tensorflow as tf\n",
    "\n",
    "# Cek apakah GPU tersedia\n",
    "gpus = tf.config.list_physical_devices('GPU')\n",
    "if gpus:\n",
    "    print(\"GPU detected:\", gpus)\n",
    "    try:\n",
    "        for gpu in gpus:\n",
    "            tf.config.experimental.set_memory_growth(gpu, True)\n",
    "    except RuntimeError as e:\n",
    "        print(e)\n",
    "else:\n",
    "    print(\"No GPU detected, training will use CPU.\")\n",
    "\n",
    "# Tambahkan EarlyStopping callback\n",
    "early_stop = tf.keras.callbacks.EarlyStopping(\n",
    "    monitor='val_root_mean_squared_error',\n",
    "    patience=5,\n",
    "    restore_best_weights=True\n",
    ")\n",
    "\n",
    "# Training dengan callback (gunakan data test untuk validasi)\n",
    "history = model.fit(\n",
    "    x=x_train,\n",
    "    y=y_train,\n",
    "    batch_size=64,\n",
    "    epochs=100,\n",
    "    validation_data=(x_test, y_test),\n",
    "    callbacks=[early_stop]\n",
    ")"
   ]
  },
  {
   "cell_type": "markdown",
   "id": "6af64b6f",
   "metadata": {},
   "source": [
    "Kode di atas menjalankan proses training model rekomendasi dengan beberapa langkah penting. Pertama, dilakukan pengecekan apakah GPU tersedia untuk mempercepat proses training; jika ada, TensorFlow akan mengatur penggunaan memori GPU secara dinamis. Selanjutnya, digunakan callback EarlyStopping untuk menghentikan training secara otomatis jika metrik validasi val_root_mean_squared_error tidak membaik selama 5 epoch berturut-turut, serta mengembalikan bobot model terbaik. Model kemudian dilatih menggunakan data training (x_train, y_train) dan divalidasi dengan data test (x_test, y_test) selama maksimal 100 epoch, batch size 8, dan training akan berhenti lebih awal jika performa validasi sudah optimal. Hasil training disimpan dalam variabel history untuk analisis lebih lanjut."
   ]
  },
  {
   "cell_type": "markdown",
   "id": "ef129cec",
   "metadata": {},
   "source": [
    "RMSE pada data validasi: 0.2949"
   ]
  },
  {
   "cell_type": "markdown",
   "id": "691a2373",
   "metadata": {},
   "source": [
    "<i>6.Memvisualisasikan grafik RMSE dari Model yang telah dibuat</i>"
   ]
  },
  {
   "cell_type": "code",
   "execution_count": 32,
   "id": "84a03d92",
   "metadata": {},
   "outputs": [
    {
     "data": {
      "image/png": "[encoded data removed]",
      "text/plain": [
       "<Figure size 640x480 with 1 Axes>"
      ]
     },
     "metadata": {},
     "output_type": "display_data"
    }
   ],
   "source": [
    "plt.plot(history.history['root_mean_squared_error'])\n",
    "plt.plot(history.history['val_root_mean_squared_error'])\n",
    "plt.title('Model Metrics')\n",
    "plt.ylabel('Root Mean Squared Error')\n",
    "plt.xlabel('Epoch')\n",
    "plt.legend(['Train', 'Validation'], loc='upper left')\n",
    "plt.show()"
   ]
  },
  {
   "cell_type": "markdown",
   "id": "d9f86520",
   "metadata": {},
   "source": [
    "Grafik di atas menunjukkan perkembangan nilai Root Mean Squared Error (RMSE) pada data training dan validation selama proses training model. Terlihat bahwa RMSE pada data training terus menurun seiring bertambahnya epoch, menandakan model semakin baik dalam mempelajari data training. Sementara itu, RMSE pada data validation cenderung stabil dan tidak mengalami kenaikan signifikan, yang berarti model tidak mengalami overfitting secara drastis. Selisih yang kecil antara kurva training dan validation menunjukkan model memiliki generalisasi yang baik terhadap data baru. RMSE yang rendah pada validation menandakan prediksi rating model cukup akurat terhadap data yang belum pernah dilihat sebelumnya."
   ]
  },
  {
   "cell_type": "markdown",
   "id": "049064c6",
   "metadata": {},
   "source": [
    "<i>7.Menerapkan Model untuk mendapatkan rekomendasi buku</i>"
   ]
  },
  {
   "cell_type": "code",
   "execution_count": 30,
   "id": "600ba3ce",
   "metadata": {},
   "outputs": [
    {
     "name": "stdout",
     "output_type": "stream",
     "text": [
      "Showing recommendations for user: 196077\n",
      "===========================\n",
      "Books with high ratings from user\n",
      "--------------------------------\n"
     ]
    },
    {
     "data": {
      "text/html": [
       "<div>\n",
       "<style scoped>\n",
       "    .dataframe tbody tr th:only-of-type {\n",
       "        vertical-align: middle;\n",
       "    }\n",
       "\n",
       "    .dataframe tbody tr th {\n",
       "        vertical-align: top;\n",
       "    }\n",
       "\n",
       "    .dataframe thead th {\n",
       "        text-align: right;\n",
       "    }\n",
       "</style>\n",
       "<table border=\"1\" class=\"dataframe\">\n",
       "  <thead>\n",
       "    <tr style=\"text-align: right;\">\n",
       "      <th></th>\n",
       "      <th>Book-Title</th>\n",
       "      <th>Book-Author</th>\n",
       "      <th>Publisher</th>\n",
       "    </tr>\n",
       "  </thead>\n",
       "  <tbody>\n",
       "    <tr>\n",
       "      <th>0</th>\n",
       "      <td>The Killer Angels</td>\n",
       "      <td>Michael Shaara</td>\n",
       "      <td>Ballantine Books</td>\n",
       "    </tr>\n",
       "    <tr>\n",
       "      <th>1</th>\n",
       "      <td>Seven Up (A Stephanie Plum Novel)</td>\n",
       "      <td>Janet Evanovich</td>\n",
       "      <td>St. Martin's Paperbacks</td>\n",
       "    </tr>\n",
       "    <tr>\n",
       "      <th>2</th>\n",
       "      <td>A Drink Before the War (Patrick Kenzie/Angela ...</td>\n",
       "      <td>Dennis Lehane</td>\n",
       "      <td>HarperTorch</td>\n",
       "    </tr>\n",
       "    <tr>\n",
       "      <th>3</th>\n",
       "      <td>Me Too! (A Golden Look-Look Book)</td>\n",
       "      <td>MERCER MAYER</td>\n",
       "      <td>Golden Books</td>\n",
       "    </tr>\n",
       "    <tr>\n",
       "      <th>4</th>\n",
       "      <td>Marine Sniper: 93 Confirmed Kills</td>\n",
       "      <td>Charles Henderson</td>\n",
       "      <td>Berkley Publishing Group</td>\n",
       "    </tr>\n",
       "  </tbody>\n",
       "</table>\n",
       "</div>"
      ],
      "text/plain": [
       "                                          Book-Title        Book-Author  \\\n",
       "0                                  The Killer Angels     Michael Shaara   \n",
       "1                  Seven Up (A Stephanie Plum Novel)    Janet Evanovich   \n",
       "2  A Drink Before the War (Patrick Kenzie/Angela ...      Dennis Lehane   \n",
       "3                  Me Too! (A Golden Look-Look Book)       MERCER MAYER   \n",
       "4                  Marine Sniper: 93 Confirmed Kills  Charles Henderson   \n",
       "\n",
       "                  Publisher  \n",
       "0          Ballantine Books  \n",
       "1   St. Martin's Paperbacks  \n",
       "2               HarperTorch  \n",
       "3              Golden Books  \n",
       "4  Berkley Publishing Group  "
      ]
     },
     "execution_count": 30,
     "metadata": {},
     "output_type": "execute_result"
    }
   ],
   "source": [
    "# Ambil 1 user secara acak\n",
    "user_id = 196077\n",
    "print('Showing recommendations for user:', user_id)\n",
    "print('=' * 27)\n",
    "\n",
    "# Buku yang sudah pernah dirating user ini\n",
    "books_visited_by_user = df_tf[df_tf['UserId'] == user_id]\n",
    "\n",
    "print('Books with high ratings from user')\n",
    "print('-' * 32)\n",
    "# 5 buku dengan rating tertinggi dari user\n",
    "top_books_user = (\n",
    "    books_visited_by_user.sort_values(by='Book-Rating', ascending=False)\n",
    "    .head(5)\n",
    "    .ISBN.values\n",
    ")\n",
    "top_books_rows = books[books['ISBN'].isin([encoded_to_isbn[i] for i in top_books_user])]\n",
    "#buat top_books_rows menjadi dataframe\n",
    "top_books_rows = top_books_rows[['Book-Title', 'Book-Author', 'Publisher']].reset_index(drop=True)\n",
    "top_books_rows\n"
   ]
  },
  {
   "cell_type": "markdown",
   "id": "81f1dc35",
   "metadata": {},
   "source": [
    "<i>kemudian kita akan tampilkan 10 Rekomendasi teratas kepada user</i>"
   ]
  },
  {
   "cell_type": "code",
   "execution_count": 31,
   "id": "898617a6",
   "metadata": {},
   "outputs": [
    {
     "name": "stdout",
     "output_type": "stream",
     "text": [
      "--------------------------------\n",
      "Top 10 book recommendation for user 196077\n",
      "--------------------------------\n",
      "441/441 [==============================] - 1s 2ms/step\n"
     ]
    },
    {
     "data": {
      "text/html": [
       "<div>\n",
       "<style scoped>\n",
       "    .dataframe tbody tr th:only-of-type {\n",
       "        vertical-align: middle;\n",
       "    }\n",
       "\n",
       "    .dataframe tbody tr th {\n",
       "        vertical-align: top;\n",
       "    }\n",
       "\n",
       "    .dataframe thead th {\n",
       "        text-align: right;\n",
       "    }\n",
       "</style>\n",
       "<table border=\"1\" class=\"dataframe\">\n",
       "  <thead>\n",
       "    <tr style=\"text-align: right;\">\n",
       "      <th></th>\n",
       "      <th>Book-Title</th>\n",
       "      <th>Book-Author</th>\n",
       "      <th>Publisher</th>\n",
       "    </tr>\n",
       "  </thead>\n",
       "  <tbody>\n",
       "    <tr>\n",
       "      <th>0</th>\n",
       "      <td>To Kill a Mockingbird</td>\n",
       "      <td>Harper Lee</td>\n",
       "      <td>Little Brown &amp;amp; Company</td>\n",
       "    </tr>\n",
       "    <tr>\n",
       "      <th>1</th>\n",
       "      <td>The Red Tent (Bestselling Backlist)</td>\n",
       "      <td>Anita Diamant</td>\n",
       "      <td>Picador USA</td>\n",
       "    </tr>\n",
       "    <tr>\n",
       "      <th>2</th>\n",
       "      <td>Life of Pi</td>\n",
       "      <td>Yann Martel</td>\n",
       "      <td>Harvest Books</td>\n",
       "    </tr>\n",
       "    <tr>\n",
       "      <th>3</th>\n",
       "      <td>Neverwhere</td>\n",
       "      <td>Neil Gaiman</td>\n",
       "      <td>Avon</td>\n",
       "    </tr>\n",
       "    <tr>\n",
       "      <th>4</th>\n",
       "      <td>Harry Potter and the Chamber of Secrets (Book 2)</td>\n",
       "      <td>J. K. Rowling</td>\n",
       "      <td>Scholastic</td>\n",
       "    </tr>\n",
       "    <tr>\n",
       "      <th>5</th>\n",
       "      <td>Harry Potter and the Order of the Phoenix (Boo...</td>\n",
       "      <td>J. K. Rowling</td>\n",
       "      <td>Scholastic</td>\n",
       "    </tr>\n",
       "    <tr>\n",
       "      <th>6</th>\n",
       "      <td>Holes (Yearling Newbery)</td>\n",
       "      <td>LOUIS SACHAR</td>\n",
       "      <td>Yearling</td>\n",
       "    </tr>\n",
       "    <tr>\n",
       "      <th>7</th>\n",
       "      <td>Nicolae: The Rise of Antichrist (Left Behind N...</td>\n",
       "      <td>Tim F. Lahaye</td>\n",
       "      <td>Tyndale House Publishers</td>\n",
       "    </tr>\n",
       "    <tr>\n",
       "      <th>8</th>\n",
       "      <td>Calvin and Hobbes</td>\n",
       "      <td>Bill Watterson</td>\n",
       "      <td>Andrews McMeel Publishing</td>\n",
       "    </tr>\n",
       "    <tr>\n",
       "      <th>9</th>\n",
       "      <td>Dragonsdawn</td>\n",
       "      <td>Anne McCaffrey</td>\n",
       "      <td>Del Rey Books</td>\n",
       "    </tr>\n",
       "  </tbody>\n",
       "</table>\n",
       "</div>"
      ],
      "text/plain": [
       "                                          Book-Title     Book-Author  \\\n",
       "0                              To Kill a Mockingbird      Harper Lee   \n",
       "1                The Red Tent (Bestselling Backlist)   Anita Diamant   \n",
       "2                                         Life of Pi     Yann Martel   \n",
       "3                                         Neverwhere     Neil Gaiman   \n",
       "4   Harry Potter and the Chamber of Secrets (Book 2)   J. K. Rowling   \n",
       "5  Harry Potter and the Order of the Phoenix (Boo...   J. K. Rowling   \n",
       "6                           Holes (Yearling Newbery)    LOUIS SACHAR   \n",
       "7  Nicolae: The Rise of Antichrist (Left Behind N...   Tim F. Lahaye   \n",
       "8                                  Calvin and Hobbes  Bill Watterson   \n",
       "9                                        Dragonsdawn  Anne McCaffrey   \n",
       "\n",
       "                    Publisher  \n",
       "0  Little Brown &amp; Company  \n",
       "1                 Picador USA  \n",
       "2               Harvest Books  \n",
       "3                        Avon  \n",
       "4                  Scholastic  \n",
       "5                  Scholastic  \n",
       "6                    Yearling  \n",
       "7    Tyndale House Publishers  \n",
       "8   Andrews McMeel Publishing  \n",
       "9               Del Rey Books  "
      ]
     },
     "execution_count": 31,
     "metadata": {},
     "output_type": "execute_result"
    }
   ],
   "source": [
    "print('-' * 32)\n",
    "print('Top 10 book recommendation for user '+ str(user_id))\n",
    "print('-' * 32)\n",
    "\n",
    "# Buku yang belum pernah dirating user ini\n",
    "books_not_visited = df_tf[~df_tf['ISBN'].isin(books_visited_by_user['ISBN'])]['ISBN'].unique()\n",
    "user_books_array = np.array([[user_id, isbn] for isbn in books_not_visited])\n",
    "\n",
    "# Prediksi rating untuk semua buku yang belum pernah dirating user ini\n",
    "ratings = model.predict(user_books_array).flatten()\n",
    "top_ratings_indices = ratings.argsort()[-10:][::-1]\n",
    "recommended_isbn = books_not_visited[top_ratings_indices]\n",
    "# Tampilkan 10 rekomendasi buku sebagai dataframe\n",
    "recommended_books = books[books['ISBN'].isin([encoded_to_isbn[i] for i in recommended_isbn])]\n",
    "recommended_books_df = recommended_books[['Book-Title', 'Book-Author', 'Publisher']].reset_index(drop=True)\n",
    "recommended_books_df"
   ]
  },
  {
   "cell_type": "markdown",
   "id": "4c553913",
   "metadata": {},
   "source": [
    "Berdasarkan hasil kode collaborative filtering di atas, sistem rekomendasi berhasil memberikan daftar 10 buku yang sangat relevan dan personal untuk user yang dipilih secara acak, dengan mempertimbangkan pola rating historis user tersebut. Data yang digunakan telah melalui proses pembersihan dan penyeimbangan, sehingga setiap kelas rating terwakili secara proporsional dan model dapat belajar preferensi pengguna dengan baik. Output rekomendasi menampilkan buku-buku populer dan beragam genre, yang sesuai dengan minat user berdasarkan buku-buku dengan rating tertinggi yang pernah ia baca. Hal ini menunjukkan bahwa model mampu menangkap pola preferensi user dan menghubungkannya dengan buku-buku lain yang memiliki kemungkinan besar akan disukai, sehingga sistem dapat memberikan rekomendasi yang akurat dan bermanfaat untuk meningkatkan pengalaman membaca pengguna."
   ]
  }
 ],
 "metadata": {
  "kernelspec": {
   "display_name": "Python 3",
   "language": "python",
   "name": "python3"
  },
  "language_info": {
   "codemirror_mode": {
    "name": "ipython",
    "version": 3
   },
   "file_extension": ".py",
   "mimetype": "text/x-python",
   "name": "python",
   "nbconvert_exporter": "python",
   "pygments_lexer": "ipython3",
   "version": "3.9.21"
  }
 },
 "nbformat": 4,
 "nbformat_minor": 5
}
